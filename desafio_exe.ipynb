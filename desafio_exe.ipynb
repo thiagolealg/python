{
  "nbformat": 4,
  "nbformat_minor": 0,
  "metadata": {
    "colab": {
      "provenance": [],
      "include_colab_link": true
    },
    "kernelspec": {
      "name": "python3",
      "display_name": "Python 3"
    },
    "language_info": {
      "name": "python"
    }
  },
  "cells": [
    {
      "cell_type": "markdown",
      "metadata": {
        "id": "view-in-github",
        "colab_type": "text"
      },
      "source": [
        "<a href=\"https://colab.research.google.com/github/thiagolealg/python/blob/main/desafio_exe.ipynb\" target=\"_parent\"><img src=\"https://colab.research.google.com/assets/colab-badge.svg\" alt=\"Open In Colab\"/></a>"
      ]
    },
    {
      "cell_type": "code",
      "execution_count": null,
      "metadata": {
        "id": "c40FbZvUJq3y"
      },
      "outputs": [],
      "source": []
    },
    {
      "cell_type": "markdown",
      "source": [
        "# Exercício de desafio 1"
      ],
      "metadata": {
        "id": "T2HTkNR-JumW"
      }
    },
    {
      "cell_type": "markdown",
      "source": [
        "## Parte básica\n",
        "A parte básica é o mínimo daquilo que precisamos executar para resolver o problema passado."
      ],
      "metadata": {
        "id": "kFh83TCnJ9gP"
      }
    },
    {
      "cell_type": "code",
      "source": [
        "# importando as bibliotecas necessárias para resolver o problema\n",
        "import sklearn as sk\n",
        "import numpy as np\n",
        "import pandas as pd"
      ],
      "metadata": {
        "id": "O6yCOT5gJ3Lf"
      },
      "execution_count": null,
      "outputs": []
    },
    {
      "cell_type": "code",
      "source": [
        "# importantado os recursos de informações que serão utilizaos\n",
        "from sklearn import datasets"
      ],
      "metadata": {
        "id": "YtmV5YqxKFN9"
      },
      "execution_count": null,
      "outputs": []
    },
    {
      "cell_type": "code",
      "source": [
        "# carregando as informações que serão utilizadas. A varíavel abaixo armazena as informações disponibilizadas pela biblioteca. Neste caso, informações sobre a flor íris.\n",
        "iris = datasets.load_iris()\n",
        "iris"
      ],
      "metadata": {
        "id": "gF8bRO38KPF_"
      },
      "execution_count": null,
      "outputs": []
    },
    {
      "cell_type": "code",
      "source": [
        "# a linha abaixo possibilita vermos os dados que temos disponíveis\n",
        "iris.data"
      ],
      "metadata": {
        "id": "52wnQZqPOFt4"
      },
      "execution_count": null,
      "outputs": []
    },
    {
      "cell_type": "code",
      "source": [
        "# o target são as classificações possíveis da íris. No caso temos 0 = setosa, 1 = versicolor e 2 = virginica. red=setosa,green=versicolor,blue=virginica\n",
        "iris.target"
      ],
      "metadata": {
        "id": "R-yzB3bvOKFH"
      },
      "execution_count": null,
      "outputs": []
    },
    {
      "cell_type": "code",
      "source": [
        "# o feature_names traz os nomes das colunas relativas as informações contidas no iris.data\n",
        "iris.feature_names"
      ],
      "metadata": {
        "id": "kN4r8qMHOM2H"
      },
      "execution_count": null,
      "outputs": []
    },
    {
      "cell_type": "code",
      "source": [
        "# a target names, traz as informações de cada classificação da iris. Como dito mais acima, 0 = setosa, 1 = versicolor e 2 = virginica. red=setosa,green=versicolor,blue=virginica\n",
        "iris.target_names"
      ],
      "metadata": {
        "id": "cggnaZCtOQ9n"
      },
      "execution_count": null,
      "outputs": []
    },
    {
      "cell_type": "markdown",
      "source": [
        "# Proposta de execício"
      ],
      "metadata": {
        "id": "tcr_5LKqKwv_"
      }
    },
    {
      "cell_type": "markdown",
      "source": [
        "## 1 - Transformar os dados que estão na varíavel iris num dataFrame\n",
        "Verifique quais tipo de dados as variáveis de **dados** criadas na parte de dados são. Transforme-as para dataFrames."
      ],
      "metadata": {
        "id": "xrLUriLjLcP_"
      }
    },
    {
      "cell_type": "code",
      "source": [],
      "metadata": {
        "id": "ZuACXA0sL78e"
      },
      "execution_count": null,
      "outputs": []
    },
    {
      "cell_type": "markdown",
      "source": [
        "## 2 - Juntar os dataframes"
      ],
      "metadata": {
        "id": "MJIBeOGmMw7m"
      }
    },
    {
      "cell_type": "code",
      "source": [],
      "metadata": {
        "id": "cjNOY7hdSNgI"
      },
      "execution_count": null,
      "outputs": []
    },
    {
      "cell_type": "markdown",
      "source": [
        "## 3 - Renomear as colunas\n",
        "A ideia é relacionar as informações disponibilizadas pela função iris.feature_names (nome das colunas) com os dados disponíveis no iris.data."
      ],
      "metadata": {
        "id": "vNvgn2EFLgFX"
      }
    },
    {
      "cell_type": "code",
      "source": [],
      "metadata": {
        "id": "3IjHFoezSPG3"
      },
      "execution_count": null,
      "outputs": []
    },
    {
      "cell_type": "markdown",
      "source": [
        "##4 - Selecionar colunas específicas por índices\n",
        "Para testar o resultado até o momento, selecione algumas informações utilizando os nomes e os indíces disponíveis no dataframe."
      ],
      "metadata": {
        "id": "yIzJv_Y0MEPu"
      }
    },
    {
      "cell_type": "code",
      "source": [],
      "metadata": {
        "id": "rKAdrM4bSPp_"
      },
      "execution_count": null,
      "outputs": []
    },
    {
      "cell_type": "markdown",
      "source": [
        "##5 - Filtrar registros (linhas)\n",
        "Conte quantos registro que:\n",
        "  1.  petal length (cm) == 1.4 (informe a quantidade aqui)\n",
        "  2 . petal length (cm) seja maior que 1.4 e classification seja igual a setosa (informe a quantidade aqui)\n",
        "  3. sepal length (cm) seja igual a 5.1 e petal width (cm) seja igual a 0.2 (informe a quantidade aqui)\n",
        "  4. sepal length (cm) seja igual a 5.1 ou petal width (cm) seja igual a 0.2\n",
        "(informe a quantidade aqui)\n",
        "\n",
        "\n",
        "\n"
      ],
      "metadata": {
        "id": "j4pi2BreMSUu"
      }
    },
    {
      "cell_type": "code",
      "source": [],
      "metadata": {
        "id": "_GWtL7q0SQRn"
      },
      "execution_count": null,
      "outputs": []
    },
    {
      "cell_type": "markdown",
      "source": [
        "##6 - Exclusão de registros\n",
        "1.  Exclua todas as linhas com indice 0,2,4,6.\n",
        "2. Exlcua a coluna petal length\n",
        "\n"
      ],
      "metadata": {
        "id": "Me52qAWmq-OV"
      }
    },
    {
      "cell_type": "code",
      "source": [],
      "metadata": {
        "id": "e-avSagyrKBU"
      },
      "execution_count": null,
      "outputs": []
    },
    {
      "cell_type": "markdown",
      "source": [
        "##7 - Agrupamento de colunas\n",
        "\n",
        "1.   Agrupe as informações pela coluna classification e conte quantos valores\n",
        "2.   Agrupe as informações pela coluna petal width (cm) e conte quantos valores\n",
        "\n",
        "\n"
      ],
      "metadata": {
        "id": "36EHHM1mMjeH"
      }
    },
    {
      "cell_type": "code",
      "source": [],
      "metadata": {
        "id": "o--S11rWSRlH"
      },
      "execution_count": null,
      "outputs": []
    },
    {
      "cell_type": "markdown",
      "source": [
        "##8 - Salvando e exportando o dataframe tratado"
      ],
      "metadata": {
        "id": "ppC198K3McJH"
      }
    },
    {
      "cell_type": "code",
      "source": [],
      "metadata": {
        "id": "22hhnfcwSSZ_"
      },
      "execution_count": null,
      "outputs": []
    },
    {
      "cell_type": "markdown",
      "source": [
        "## Resultado final esperado\n",
        "\n",
        "![image.png](data:image/png;base64,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)"
      ],
      "metadata": {
        "id": "c-74JBA4PJHn"
      }
    }
  ]
}